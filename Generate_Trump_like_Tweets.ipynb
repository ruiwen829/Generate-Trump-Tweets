{
  "nbformat": 4,
  "nbformat_minor": 0,
  "metadata": {
    "colab": {
      "name": "Generate Trump-like Tweets.ipynb",
      "provenance": [],
      "collapsed_sections": [],
      "toc_visible": true,
      "include_colab_link": true
    },
    "kernelspec": {
      "name": "python3",
      "display_name": "Python 3"
    },
    "accelerator": "GPU"
  },
  "cells": [
    {
      "cell_type": "markdown",
      "metadata": {
        "id": "view-in-github",
        "colab_type": "text"
      },
      "source": [
        "<a href=\"https://colab.research.google.com/github/ruiwen829/Generate-Trump-like-Tweets/blob/master/Generate_Trump_like_Tweets.ipynb\" target=\"_parent\"><img src=\"https://colab.research.google.com/assets/colab-badge.svg\" alt=\"Open In Colab\"/></a>"
      ]
    },
    {
      "cell_type": "markdown",
      "metadata": {
        "id": "dmtae2DnovhT"
      },
      "source": [
        "# Workshop: Analysing Trump's Tweets\n",
        "## Author: Ruiwen Zhang\n",
        "\n",
        "Questions/objectives:\n",
        "* How does President Trump feel about Bernie Sanders?\n",
        "* How might we produce Trump-like Tweets?"
      ]
    },
    {
      "cell_type": "code",
      "metadata": {
        "id": "iNyF1RkqPNHZ",
        "colab": {
          "base_uri": "https://localhost:8080/",
          "height": 34
        },
        "outputId": "bb5d7629-7900-4377-cbcc-21d76730b46e"
      },
      "source": [
        "from google.colab import drive\n",
        "drive.mount('/content/drive')"
      ],
      "execution_count": null,
      "outputs": [
        {
          "output_type": "stream",
          "text": [
            "Mounted at /content/drive\n"
          ],
          "name": "stdout"
        }
      ]
    },
    {
      "cell_type": "markdown",
      "metadata": {
        "id": "565f4rG_pVFx"
      },
      "source": [
        "## Part I: Trump v. Sanders\n",
        "\n"
      ]
    },
    {
      "cell_type": "markdown",
      "metadata": {
        "id": "uBHfTmulR0qi"
      },
      "source": [
        "## 1 - Data ##\n",
        "We first get the data into our Google Colab environment from a Github repository.\n",
        "\n",
        "\n",
        "\n",
        "> ---\n",
        "> *More on this*\n",
        ">\n",
        "> Github is a standard tool used by software developers and computer programmers of all types that makes it easy to share, update and keep track of code. It is used accross industry and academia for both personal and team-oriented projects.\n",
        ">\n",
        "> The Github repository for this project [Generate-Trump-like-Tweets](https://github.com/ruiwen829/Generate-Trump-like-Tweets) simply contains the data (and some model weights) for this workshop. \n",
        "\n",
        "> ---"
      ]
    },
    {
      "cell_type": "code",
      "metadata": {
        "id": "sgZFV0DwWTxG",
        "colab": {
          "base_uri": "https://localhost:8080/"
        },
        "outputId": "7e574c96-d110-4b20-d22f-43f808198251"
      },
      "source": [
        "# This is a code cell--we can execute Python code here.\n",
        "# Note that lines in the coding cells that start with '#' are comments and not interpretted as computer code.\n",
        "# They are great for explaining what your code is doing in plain English!\n",
        "# Also note the line below starts with '!'--these lines are interpretted as shell commands.\n",
        "!git clone https://github.com/ruiwen829/Generate-Trump-like-Tweets"
      ],
      "execution_count": 1,
      "outputs": [
        {
          "output_type": "stream",
          "text": [
            "Cloning into 'Generate-Trump-like-Tweets'...\n",
            "remote: Enumerating objects: 18, done.\u001b[K\n",
            "remote: Counting objects: 100% (18/18), done.\u001b[K\n",
            "remote: Compressing objects: 100% (16/16), done.\u001b[K\n",
            "remote: Total 18 (delta 3), reused 3 (delta 0), pack-reused 0\u001b[K\n",
            "Unpacking objects: 100% (18/18), done.\n"
          ],
          "name": "stdout"
        }
      ]
    },
    {
      "cell_type": "markdown",
      "metadata": {
        "id": "ZbW7c_7WqW9F"
      },
      "source": [
        "The data is now in our environment. Confirm that it's in its proper place by clicking the folder on the left-hand side of the screen and checking what was exactly copied before continuing (you should be able to find a file called 'trumpstweets.csv' in the 'data' folder).\n",
        "\n",
        "Python allows for users to use *libraries* (groups of related functions) created by the community. In fact, libraries are one of the reasons Python is so widely used! There is a vast body of great libraries that Python programmer rely on regularly."
      ]
    },
    {
      "cell_type": "markdown",
      "metadata": {
        "id": "EVPLU46_Qf60"
      },
      "source": [
        "## 2 - Packages ##\n",
        "\n",
        "Let's then import all the packages that you will need during this workshop.\n",
        "- [pandas](https://pandas.pydata.org/) is a data analysis and manipulation tool, built on top of the Python programming language\n",
        "- [matplotlib](http://matplotlib.org) is a library for plotting graphs in Python.\n",
        "- [textblob](https://textblob.readthedocs.io/en/dev/) is a library for processing textual data"
      ]
    },
    {
      "cell_type": "code",
      "metadata": {
        "id": "bfafz2tKCQOc"
      },
      "source": [
        "import pandas as pd\n",
        "import matplotlib.pyplot as plt\n",
        "from textblob import TextBlob"
      ],
      "execution_count": 3,
      "outputs": []
    },
    {
      "cell_type": "markdown",
      "metadata": {
        "id": "E7POuGzCs8Nx"
      },
      "source": [
        "Note that we import each of the libraries as something else. This is for clarity and faster development. Now, we can use the shorthand 'plt' to refer to 'matplotlib.pyplot' (which is quite annoying to type out!)."
      ]
    },
    {
      "cell_type": "markdown",
      "metadata": {
        "id": "m4I1rQhTt73w"
      },
      "source": [
        "We noted that [pandas](https://pandas.pydata.org/) is our go-to library for handling our data. We will use its `read_csv()` function to read in our raw data. Use this function to set a variable *df* to hold our data. \n",
        "\n",
        "\n",
        "To find the data file, look through the \n",
        "directory on the left-hand side of the screen. Remember that filepath's take the format: folder1/folder2/ another_folder/my_data.txt.\n",
        "\n",
        "Recall that we won't use the full keyword  `pandas` when refering to the library, but rather the shorthand we defined when importing the library.\n",
        "\n",
        " ---\n",
        " *More on this*\n",
        "\n",
        " Pandas stores data in what it called DataFrame. You can think of it as a well-organized table or matrix of data.\n",
        "\n",
        " ---\n",
        "\n",
        "One convenient way to see what a variable holds is by simple typing the variable's name as it's own line of code at the end of a code cell. After setting the variable, let's check what the content of df are by doing this."
      ]
    },
    {
      "cell_type": "code",
      "metadata": {
        "id": "lZEXVb9OCUgK",
        "colab": {
          "base_uri": "https://localhost:8080/",
          "height": 1000
        },
        "outputId": "c9ccfc55-fd67-4611-e4ff-849ecb95b7a3"
      },
      "source": [
        "df = pd.read_csv('/content/Generate-Trump-like-Tweets/data/trumptweets.csv')\n",
        "df"
      ],
      "execution_count": 4,
      "outputs": [
        {
          "output_type": "execute_result",
          "data": {
            "text/html": [
              "<div>\n",
              "<style scoped>\n",
              "    .dataframe tbody tr th:only-of-type {\n",
              "        vertical-align: middle;\n",
              "    }\n",
              "\n",
              "    .dataframe tbody tr th {\n",
              "        vertical-align: top;\n",
              "    }\n",
              "\n",
              "    .dataframe thead th {\n",
              "        text-align: right;\n",
              "    }\n",
              "</style>\n",
              "<table border=\"1\" class=\"dataframe\">\n",
              "  <thead>\n",
              "    <tr style=\"text-align: right;\">\n",
              "      <th></th>\n",
              "      <th>id</th>\n",
              "      <th>link</th>\n",
              "      <th>content</th>\n",
              "      <th>date</th>\n",
              "      <th>retweets</th>\n",
              "      <th>favorites</th>\n",
              "      <th>mentions</th>\n",
              "      <th>hashtags</th>\n",
              "      <th>geo</th>\n",
              "    </tr>\n",
              "  </thead>\n",
              "  <tbody>\n",
              "    <tr>\n",
              "      <th>0</th>\n",
              "      <td>1698308935</td>\n",
              "      <td>https://twitter.com/realDonaldTrump/status/169...</td>\n",
              "      <td>Be sure to tune in and watch Donald Trump on L...</td>\n",
              "      <td>2009-05-04 20:54:25</td>\n",
              "      <td>500</td>\n",
              "      <td>868</td>\n",
              "      <td>NaN</td>\n",
              "      <td>NaN</td>\n",
              "      <td>NaN</td>\n",
              "    </tr>\n",
              "    <tr>\n",
              "      <th>1</th>\n",
              "      <td>1701461182</td>\n",
              "      <td>https://twitter.com/realDonaldTrump/status/170...</td>\n",
              "      <td>Donald Trump will be appearing on The View tom...</td>\n",
              "      <td>2009-05-05 03:00:10</td>\n",
              "      <td>33</td>\n",
              "      <td>273</td>\n",
              "      <td>NaN</td>\n",
              "      <td>NaN</td>\n",
              "      <td>NaN</td>\n",
              "    </tr>\n",
              "    <tr>\n",
              "      <th>2</th>\n",
              "      <td>1737479987</td>\n",
              "      <td>https://twitter.com/realDonaldTrump/status/173...</td>\n",
              "      <td>Donald Trump reads Top Ten Financial Tips on L...</td>\n",
              "      <td>2009-05-08 15:38:08</td>\n",
              "      <td>12</td>\n",
              "      <td>18</td>\n",
              "      <td>NaN</td>\n",
              "      <td>NaN</td>\n",
              "      <td>NaN</td>\n",
              "    </tr>\n",
              "    <tr>\n",
              "      <th>3</th>\n",
              "      <td>1741160716</td>\n",
              "      <td>https://twitter.com/realDonaldTrump/status/174...</td>\n",
              "      <td>New Blog Post: Celebrity Apprentice Finale and...</td>\n",
              "      <td>2009-05-08 22:40:15</td>\n",
              "      <td>11</td>\n",
              "      <td>24</td>\n",
              "      <td>NaN</td>\n",
              "      <td>NaN</td>\n",
              "      <td>NaN</td>\n",
              "    </tr>\n",
              "    <tr>\n",
              "      <th>4</th>\n",
              "      <td>1773561338</td>\n",
              "      <td>https://twitter.com/realDonaldTrump/status/177...</td>\n",
              "      <td>\"My persona will never be that of a wallflower...</td>\n",
              "      <td>2009-05-12 16:07:28</td>\n",
              "      <td>1399</td>\n",
              "      <td>1965</td>\n",
              "      <td>NaN</td>\n",
              "      <td>NaN</td>\n",
              "      <td>NaN</td>\n",
              "    </tr>\n",
              "    <tr>\n",
              "      <th>...</th>\n",
              "      <td>...</td>\n",
              "      <td>...</td>\n",
              "      <td>...</td>\n",
              "      <td>...</td>\n",
              "      <td>...</td>\n",
              "      <td>...</td>\n",
              "      <td>...</td>\n",
              "      <td>...</td>\n",
              "      <td>...</td>\n",
              "    </tr>\n",
              "    <tr>\n",
              "      <th>41117</th>\n",
              "      <td>1218962544372670467</td>\n",
              "      <td>https://twitter.com/realDonaldTrump/status/121...</td>\n",
              "      <td>I have never seen the Republican Party as Stro...</td>\n",
              "      <td>2020-01-19 19:24:52</td>\n",
              "      <td>32620</td>\n",
              "      <td>213817</td>\n",
              "      <td>NaN</td>\n",
              "      <td>NaN</td>\n",
              "      <td>NaN</td>\n",
              "    </tr>\n",
              "    <tr>\n",
              "      <th>41118</th>\n",
              "      <td>1219004689716412416</td>\n",
              "      <td>https://twitter.com/realDonaldTrump/status/121...</td>\n",
              "      <td>Now Mini Mike Bloomberg is critical of Jack Wi...</td>\n",
              "      <td>2020-01-19 22:12:20</td>\n",
              "      <td>36239</td>\n",
              "      <td>149571</td>\n",
              "      <td>NaN</td>\n",
              "      <td>NaN</td>\n",
              "      <td>NaN</td>\n",
              "    </tr>\n",
              "    <tr>\n",
              "      <th>41119</th>\n",
              "      <td>1219053709428248576</td>\n",
              "      <td>https://twitter.com/realDonaldTrump/status/121...</td>\n",
              "      <td>I was thrilled to be back in the Great State o...</td>\n",
              "      <td>2020-01-20 01:27:07</td>\n",
              "      <td>16588</td>\n",
              "      <td>66944</td>\n",
              "      <td>NaN</td>\n",
              "      <td>#</td>\n",
              "      <td>NaN</td>\n",
              "    </tr>\n",
              "    <tr>\n",
              "      <th>41120</th>\n",
              "      <td>1219066007731310593</td>\n",
              "      <td>https://twitter.com/realDonaldTrump/status/121...</td>\n",
              "      <td>“In the House, the President got less due proc...</td>\n",
              "      <td>2020-01-20 02:16:00</td>\n",
              "      <td>20599</td>\n",
              "      <td>81921</td>\n",
              "      <td>@ @ @</td>\n",
              "      <td>NaN</td>\n",
              "      <td>NaN</td>\n",
              "    </tr>\n",
              "    <tr>\n",
              "      <th>41121</th>\n",
              "      <td>1219076533354037249</td>\n",
              "      <td>https://twitter.com/realDonaldTrump/status/121...</td>\n",
              "      <td>A great show! Check it out tonight at 9pm. @ F...</td>\n",
              "      <td>2020-01-20 02:57:49</td>\n",
              "      <td>7947</td>\n",
              "      <td>34902</td>\n",
              "      <td>@</td>\n",
              "      <td>NaN</td>\n",
              "      <td>NaN</td>\n",
              "    </tr>\n",
              "  </tbody>\n",
              "</table>\n",
              "<p>41122 rows × 9 columns</p>\n",
              "</div>"
            ],
            "text/plain": [
              "                        id  ... geo\n",
              "0               1698308935  ... NaN\n",
              "1               1701461182  ... NaN\n",
              "2               1737479987  ... NaN\n",
              "3               1741160716  ... NaN\n",
              "4               1773561338  ... NaN\n",
              "...                    ...  ...  ..\n",
              "41117  1218962544372670467  ... NaN\n",
              "41118  1219004689716412416  ... NaN\n",
              "41119  1219053709428248576  ... NaN\n",
              "41120  1219066007731310593  ... NaN\n",
              "41121  1219076533354037249  ... NaN\n",
              "\n",
              "[41122 rows x 9 columns]"
            ]
          },
          "metadata": {
            "tags": []
          },
          "execution_count": 4
        }
      ]
    },
    {
      "cell_type": "markdown",
      "metadata": {
        "id": "0VMaZRZsv36q"
      },
      "source": [
        "You've successfully loaded the data into Python! What does the data look like? What different information does it contain (and which of these are we primarily interested in)? How many samples does the data contain?\n",
        "\n",
        "Let's now extract our desired information, *contents*. Set a variable to just contain this information by indexing into *df* using square brckets, [ ]. Note that you will have to use quotes, \" \", around the column name when indexing. Put the contents in a variable called *contents*.\n",
        "\n",
        "After you've done this, let's try to see how Trump feels about some democrats, say Bernie Sanders. We can search the contents for occurances of 'Bernie' and only look at those Tweets (we have done this for you in the variable called *bernies*)."
      ]
    },
    {
      "cell_type": "code",
      "metadata": {
        "id": "855oqfPVPe-G"
      },
      "source": [
        "# extracts the \"content\" column of 'df' and puts it into the variable 'content' \n",
        "contents = df[\"content\"]"
      ],
      "execution_count": null,
      "outputs": []
    },
    {
      "cell_type": "code",
      "metadata": {
        "id": "73tVLcDw1lNW"
      },
      "source": [
        "# finds all occurances of \"Bernie\" and stores in 'bernies'\n",
        "idx = contents.str.find(\"Bernie\") != -1\n",
        "bernies = df[idx]"
      ],
      "execution_count": null,
      "outputs": []
    },
    {
      "cell_type": "markdown",
      "metadata": {
        "id": "tdV_KxW6Pir0"
      },
      "source": [
        "Let's now apply \\~machine learning\\~ methods to do some *sentiment analysis*. In this case, that's finding out how Trump feels about Bernie.\n",
        "\n",
        "Specifically, in our TextBlob library, there are two ways we are going to understand each Tweet's sentiment: _polarity_ ($\\in [-1,1]$) and _subjectivity_ ($\\in [0,1]$).\n",
        "\n",
        "Part of the code has been written for you. We will be *iterating* over each of the Tweets regarding Bernie, and then calling the `sentiment.polarity` and `sentiment.subjectivity` methods to get these two relevant quantities (click [textblob](https://textblob.readthedocs.io/en/dev/api_reference.html#textblob.blob.TextBlob.sentiment) for documentation).\n",
        "\n",
        "Let's store these values in a different column of *bernies*: *sentiment_polarity* and *sentiment_subjectivity*. To create a new column in our DataFrame, read the documentation of the _.loc_ method in [pandas](https://pandas.pydata.org/pandas-docs/stable/reference/api/pandas.DataFrame.loc.html) documentation.\n"
      ]
    },
    {
      "cell_type": "code",
      "metadata": {
        "id": "9NmGfrc_QCQW",
        "colab": {
          "base_uri": "https://localhost:8080/",
          "height": 241
        },
        "outputId": "06d5272a-9d33-4e76-c3a8-cf3bbcdce338"
      },
      "source": [
        "# apply sentiment analysis to Bernie-related Tweets\n",
        "for idx, row in bernies.iterrows():\n",
        "  single_tweet = TextBlob(row.content)\n",
        "  bernies.loc[idx, \"sentiment_polarity\"] = single_tweet.sentiment.polarity\n",
        "  bernies.loc[idx, \"sentiment_subjectivity\"] = single_tweet.sentiment.subjectivity"
      ],
      "execution_count": null,
      "outputs": [
        {
          "output_type": "stream",
          "text": [
            "/usr/local/lib/python3.6/dist-packages/pandas/core/indexing.py:845: SettingWithCopyWarning: \n",
            "A value is trying to be set on a copy of a slice from a DataFrame.\n",
            "Try using .loc[row_indexer,col_indexer] = value instead\n",
            "\n",
            "See the caveats in the documentation: https://pandas.pydata.org/pandas-docs/stable/user_guide/indexing.html#returning-a-view-versus-a-copy\n",
            "  self.obj[key] = _infer_fill_value(value)\n",
            "/usr/local/lib/python3.6/dist-packages/pandas/core/indexing.py:966: SettingWithCopyWarning: \n",
            "A value is trying to be set on a copy of a slice from a DataFrame.\n",
            "Try using .loc[row_indexer,col_indexer] = value instead\n",
            "\n",
            "See the caveats in the documentation: https://pandas.pydata.org/pandas-docs/stable/user_guide/indexing.html#returning-a-view-versus-a-copy\n",
            "  self.obj[item] = s\n"
          ],
          "name": "stderr"
        }
      ]
    },
    {
      "cell_type": "markdown",
      "metadata": {
        "id": "hrtcMVxdQHsf"
      },
      "source": [
        "Now our _bernies_ DataFrame also contains values for Trump's sentiment! Let's compute some basic quantities of interest for these data. Specifically, print out the mean value and standard deviation of the _sentiment_polarity_ column we just created. Additionally, quickly plot a histogram of the values using _plt.hist()_ (note: call _plt.show()_ to show the plot). Repeat this for the _sentiment_subjectivity_ column."
      ]
    },
    {
      "cell_type": "code",
      "metadata": {
        "id": "hAYWstxeWlSb",
        "colab": {
          "base_uri": "https://localhost:8080/",
          "height": 581
        },
        "outputId": "6d5780be-bd27-4193-db3d-e6fc65ee7504"
      },
      "source": [
        "# basic statistics and plot\n",
        "print(\"Polarity: Mean: %f\\nStd: %f\" % (bernies[\"sentiment_polarity\"].mean(), bernies[\"sentiment_polarity\"].std()))\n",
        "plt.hist(bernies[\"sentiment_polarity\"])\n",
        "plt.show()\n",
        "\n",
        "print(\"Subjectivity: Mean: %f\\nStd: %f\" % (bernies[\"sentiment_subjectivity\"].mean(), bernies[\"sentiment_subjectivity\"].std()))\n",
        "plt.hist(bernies[\"sentiment_subjectivity\"])\n",
        "plt.show()"
      ],
      "execution_count": null,
      "outputs": [
        {
          "output_type": "stream",
          "text": [
            "Polarity: Mean: -0.037951\n",
            "Std: 0.307511\n"
          ],
          "name": "stdout"
        },
        {
          "output_type": "display_data",
          "data": {
            "image/png": "[encoded data removed]",
            "text/plain": [
              "<Figure size 432x288 with 1 Axes>"
            ]
          },
          "metadata": {
            "tags": [],
            "needs_background": "light"
          }
        },
        {
          "output_type": "stream",
          "text": [
            "Subjectivity: Mean: 0.460923\n",
            "Std: 0.262217\n"
          ],
          "name": "stdout"
        },
        {
          "output_type": "display_data",
          "data": {
            "image/png": "[encoded data removed]",
            "text/plain": [
              "<Figure size 432x288 with 1 Axes>"
            ]
          },
          "metadata": {
            "tags": [],
            "needs_background": "light"
          }
        }
      ]
    },
    {
      "cell_type": "markdown",
      "metadata": {
        "id": "o70drFpdvzbs"
      },
      "source": [
        "Which way is the distribution skewed (are there a lot of Tweets to the far left/very negative or the far right/very positive)? What is the average (how does Trump feel, on average, about Bernie)?"
      ]
    },
    {
      "cell_type": "markdown",
      "metadata": {
        "id": "RQ3jwy5ebNuv"
      },
      "source": [
        "## Part II: Generating Trump-like Tweets\n",
        "Now let's have some fun! An exciting part of AI research is figuring out how machines can _generate_ content that seems like it was produced by a human. In this section, we generate Trump-like Tweets using _textgenrnn_, a library for processing (and creating) texts.\n",
        "\n",
        "This part is suppose to be fun, so we've done most of the heavy lifting for you. That is, we're trained a model on Trump's Tweets and now we can call on it to generate things that look like something our president would send out."
      ]
    },
    {
      "cell_type": "code",
      "metadata": {
        "id": "eeuMIi-pmcBR"
      },
      "source": [
        "# install package for the lastest version (must)"
      ],
      "execution_count": 8,
      "outputs": []
    },
    {
      "cell_type": "code",
      "metadata": {
        "id": "SVyUnbWFxMwb"
      },
      "source": [
        "pip install git+https://github.com/minimaxir/textgenrnn"
      ],
      "execution_count": null,
      "outputs": []
    },
    {
      "cell_type": "code",
      "metadata": {
        "id": "6WkitaFLhwU9"
      },
      "source": [
        "from textgenrnn import textgenrnn\n",
        "textgen = textgenrnn(name=\"trump_model_epoch12\")"
      ],
      "execution_count": 10,
      "outputs": []
    },
    {
      "cell_type": "code",
      "metadata": {
        "id": "eFeUzvvhpVLA"
      },
      "source": [
        "import re\n",
        "text = [re.sub(r'^https?:\\/\\/.*[\\r\\n]*', '', text, flags=re.MULTILINE) for text in df['content'].values.tolist()]"
      ],
      "execution_count": 11,
      "outputs": []
    },
    {
      "cell_type": "code",
      "metadata": {
        "id": "E73HvHwbhxw6",
        "colab": {
          "base_uri": "https://localhost:8080/",
          "height": 1000
        },
        "outputId": "c924086f-a546-48d9-ae46-82a76f3e22d3"
      },
      "source": [
        "textgen.train_on_texts(text,\n",
        "                        word_level=True, \n",
        "                        new_model=True,\n",
        "                        rnn_bidirectional=True,\n",
        "                        rnn_layers=4,\n",
        "                        rnn_size=128,\n",
        "                        dim_embeddings=300,\n",
        "                        max_length=20,\n",
        "                        num_epochs=12)\n",
        "#textgen.generate()"
      ],
      "execution_count": null,
      "outputs": [
        {
          "output_type": "stream",
          "text": [
            "Training new model w/ 4-layer, 128-cell Bidirectional LSTMs\n",
            "Training on 1,235,343 word sequences.\n",
            "Epoch 1/12\n",
            "9651/9651 [==============================] - ETA: 0s - loss: 4.0448####################\n",
            "Temperature: 0.2\n",
            "####################\n",
            "\"@:@ realdonaldtrump@@@@ foxnews@ megynkelly@ oreillyfactor@ foxnews@ foxnews@ seanhannity@ foxnews\n",
            "\n",
            "\"@:@ realdonaldtrump@@@@@ megynkelly@ oreillyfactor@ foxnews@ megynkelly@ oreillyfactor@ foxnews\n",
            "\n",
            "\"@:@ realdonaldtrump@@@@@ foxnews@ megynkelly@ oreillyfactor@ foxnews@ seanhannity@ foxnews\n",
            "\n",
            "####################\n",
            "Temperature: 0.5\n",
            "####################\n",
            "\"@:@ realdonaldtrump@@@ foxnews mr trump is the best of the best golf course in the uk. \"\n",
            "\n",
            "\"@:@ realdonaldtrump i'm a fan of the best..............\n",
            "\n",
            "\"@:@ realdonaldtrump@@@@@ apprenticenbc trump is a special place! \"\n",
            "\n",
            "####################\n",
            "Temperature: 1.0\n",
            "####################\n",
            "general john kelly is a tremendous last joseph supporter.. go order to get tough, military, vets, military, vets, senate, and the democrats follow shortly iowa. she has great taste, not!\n",
            "\n",
            "@ “ checking out out@ strongly about@ merry christmas, our great veterans - - and a wonderful group!: / /.. / …\n",
            "\n",
            "i started the phony call last night with autism, his lies and his brother. play dinner!\n",
            "\n",
            "9651/9651 [==============================] - 638s 66ms/step - loss: 4.0448\n",
            "Epoch 2/12\n",
            "9651/9651 [==============================] - ETA: 0s - loss: 3.4531####################\n",
            "Temperature: 0.2\n",
            "####################\n",
            "\"@:@ realdonaldtrump@@@@@@@@ forq2@ realdonaldtrump you are the best! \"\n",
            "\n",
            "\"@:@ realdonaldtrump@@@@@@ trump charlotte is a great place! \"\n",
            "\n",
            "\"@:@ realdonaldtrump@@@@ trump is the only candidate who has the best economy ever since i was. \"\n",
            "\n",
            "####################\n",
            "Temperature: 0.5\n",
            "####################\n",
            "\"@:@ realdonaldtrump@@@@ trumpdoral@@ trump charlotte is a great place! you can! \"\n",
            "\n",
            "\"@:@ realdonaldtrump@@@@ trump is the only candidate who can't get us on the economy! \"\n",
            "\n",
            ".@ alexsalmond is a great one who loves our vets and the second amendment.\n",
            "\n",
            "####################\n",
            "Temperature: 1.0\n",
            "####################\n",
            "i saw the construction they speak in@ economy not that they only can take advantage for the beating us. join me in turnberry in scotland!\n",
            "\n",
            "the killer should win for the market and almost. the media are faces against the economy. they don t have working $now, they are helping others likewise to the 2 supreme court, is holding back a massive partnership with a hurricane shooting in the force. especially florida.\n",
            "\n",
            "\"@:@ realdonaldtrump i do plan that you have to prove you to be president \"only if you will run for president.\"\n",
            "\n",
            "9651/9651 [==============================] - 646s 67ms/step - loss: 3.4531\n",
            "Epoch 3/12\n",
            "9651/9651 [==============================] - ETA: 0s - loss: 3.1564####################\n",
            "Temperature: 0.2\n",
            "####################\n",
            "\"@:@ realdonaldtrump@ foxandfriends@ foxnews@ seanhannity@ seanhannity i agree with you. \"\n",
            "\n",
            "\"@:@ realdonaldtrump@@@ foxnews@ seanhannity@ oreillyfactor i agree with you..... \"\n",
            "\n",
            "\"@:@ realdonaldtrump@@@@ foxnews@ seanhannity@ oreillyfactor i'm a huge fan of reagan. \"\n",
            "\n",
            "####################\n",
            "Temperature: 0.5\n",
            "####################\n",
            "the fake news media is trying to get the job done, nothing works for the people!\n",
            "\n",
            "i am fighting for the@ whitehouse! #. twitter. /\n",
            "\n",
            "i will be on@ gretawire tonight at 10 pm et.\n",
            "\n",
            "####################\n",
            "Temperature: 1.0\n",
            "####################\n",
            "thank you adam for your incredible courage to “ m ” & much for a major emergency of information to the assembly thanksgiving who@ made all goes to the. they should be ashamed.\n",
            "\n",
            "obama has held to the men & women. they do nothing like to understand they wanted my policy.: / / twitter. / mike pence / status / … \"\n",
            "\n",
            "south korea has announced the 9 15 tariff of announcement that will be coming, substantially to become more. this will be a year old and 100!\n",
            "\n",
            "9651/9651 [==============================] - 647s 67ms/step - loss: 3.1564\n",
            "Epoch 4/12\n",
            "9651/9651 [==============================] - ETA: 0s - loss: 2.9216####################\n",
            "Temperature: 0.2\n",
            "####################\n",
            "\"@:@ realdonaldtrump i agree with you. \"\n",
            "\n",
            "\"@:@ realdonaldtrump@@@@ foxnews i agree with you..............\n",
            "\n",
            "\"@:@ realdonaldtrump@@@@ foxnews@ seanhannity i agree with you...........................................................................................................................................................................................................................................................................................\n",
            "\n",
            "####################\n",
            "Temperature: 0.5\n",
            "####################\n",
            "i am watching the debate tonight on thursday night. i will be announcing my second term at the. thank you!\n",
            "\n",
            "\"@:@ realdonaldtrump i'd vote for you in a second time! \" i agree!\n",
            "\n",
            "the@ washingtonpost is not even better to get the word out. paper has been consistently front - cover it correctly.\n",
            "\n",
            "####################\n",
            "Temperature: 1.0\n",
            "####################\n",
            "this is the time for trying to roll. acts b of a children are proven be right when under reagan, but lies.\n",
            "\n",
            "“ getting ahead and doing best deals for the job - ” – think big\n",
            "\n",
            "the democrats to make this great payments as legal & illegal immigration instead they would, do they!\n",
            "\n",
            "9651/9651 [==============================] - 647s 67ms/step - loss: 2.9216\n",
            "Epoch 5/12\n",
            "9651/9651 [==============================] - ETA: 0s - loss: 2.7043####################\n",
            "Temperature: 0.2\n",
            "####################\n",
            "\"@:@ realdonaldtrump@@@ macys your ties are great!!!!!! thanks for being the best ever! \" thanks.\n",
            "\n",
            "\"@:@ realdonaldtrump@@@ dnorrell@ greta@ statedept yes, yes, yes, yes, yes, and yes. she is a great player and a great person.\n",
            "\n",
            "\"@:@ realdonaldtrump@@ macys your ties are great! they are going to take them away. \"\n",
            "\n",
            "####################\n",
            "Temperature: 0.5\n",
            "####################\n",
            "\"@:@ realdonaldtrump@ i'm a small business owner. # trump2016 \"\n",
            "\n",
            "\"@:@ realdonaldtrump@ foxandfriends@ erictrump@ erictrumpfdn@ stjude@ erictrump \"\n",
            "\n",
            "\"@:@ realdonaldtrump@ seanhannity@ foxnews i thought i was going to win this way..... \"\n",
            "\n",
            "####################\n",
            "Temperature: 1.0\n",
            "####################\n",
            "\"@@ realdonaldtrump no you are my! \" great idea.\n",
            "\n",
            "\"@:@ realdonaldtrump@@ dnorrell@@@ rosie@ rosie@ realdonaldtrump and use it! # o'. \"\n",
            "\n",
            "on purpose, not leaks from washington. to d. c. as o personally that i made intellectual property & stock market!\n",
            "\n",
            "9651/9651 [==============================] - 612s 63ms/step - loss: 2.7043\n",
            "Epoch 6/12\n",
            "9651/9651 [==============================] - ETA: 0s - loss: 2.5060####################\n",
            "Temperature: 0.2\n",
            "####################\n",
            "\"@:@ realdonaldtrump@@@ foxnews@ cnn@ cnn@ donlemon@ cnn@ cnn is better than anyone else. \"\n",
            "\n",
            "\"@:@ realdonaldtrump@@@ foxnews@ cnn@ cnn is it all time. trump 2016 \"\n",
            "\n",
            "\"@:@ realdonaldtrump@@ brandiglanville@ apprenticenbc@ nbc@ celebapprentice yeah first!!! \"\n",
            "\n",
            "####################\n",
            "Temperature: 0.5\n",
            "####################\n",
            "\"@:@ realdonaldtrump you're a legend and i'm a small business owner.... \" thanks.\n",
            "\n",
            "\"@:@ realdonaldtrump please run for president. i'd vote for him! \"\n",
            "\n",
            "@ thanks - - it will be great.\n",
            "\n",
            "####################\n",
            "Temperature: 1.0\n",
            "####################\n",
            "\"@:@ realdonaldtrump \"\n",
            "\n",
            ". i will be going to cleveland instead of the opening for republican - in virginia - leadership is booming!\n",
            "\n",
            "\"@ again for me@ realdonaldtrump is one of the few most famous people i (i should that \" thanks!\n",
            "\n",
            "9651/9651 [==============================] - 612s 63ms/step - loss: 2.5060\n",
            "Epoch 7/12\n",
            "9651/9651 [==============================] - ETA: 0s - loss: 2.3188####################\n",
            "Temperature: 0.2\n",
            "####################\n",
            "\"@:@ realdonaldtrump@@@ cnn@ foxnews@ drudge report megyn \"\n",
            "\n",
            "\"@:@ realdonaldtrump@@@ foxnews@ cnn@ oreillyfactor \"\n",
            "\n",
            "\"@:@ realdonaldtrump@@@ foxnews@ cnn@ cnn it is great! \"\n",
            "\n",
            "####################\n",
            "Temperature: 0.5\n",
            "####################\n",
            "\"@:@ realdonaldtrump i wonder what it takes to be the next season of # celebrityapprentice \"\n",
            "\n",
            "\"@:@ realdonaldtrump the world is the best and most dangerous place in politics. \"\n",
            "\n",
            "\"@:@ realdonaldtrump@@@ foxnews@ cnn@ donlemon@ cnn go trump # \"\n",
            "\n",
            "####################\n",
            "Temperature: 1.0\n",
            "####################\n",
            "via@: “ donald trump's plans return at iowa,'all business, getting dirt from hillary in. ” pic. twitter. /\n",
            "\n",
            "\"@: rt where@ realdonaldtrump were in king of celebrity apprentice now. he's going it because we love it \" great!\n",
            "\n",
            "“ my advice for mother of father was a father gift: know everything you can about what you re doing. enjoy your helicopter - - from the best to you. congrats to both and great players - - great show, can you go out.\n",
            "\n",
            "9651/9651 [==============================] - 624s 65ms/step - loss: 2.3188\n",
            "Epoch 8/12\n",
            "9651/9651 [==============================] - ETA: 0s - loss: 2.1288####################\n",
            "Temperature: 0.2\n",
            "####################\n",
            "\"@:@ realdonaldtrump@@@ cnn@ donlemon@ cnn@ cnn anchor@ megynkelly you touch your hair! \"\n",
            "\n",
            "\"@:@ realdonaldtrump@@@ cnn@ donlemon go trump..............................................................................................................................................................................................................................................................................................\n",
            "\n",
            "\"@:@ realdonaldtrump@@@ cnn@ donlemon@ cnn@ cnn anchor@ megynkelly you cant be focused on trump!! trump for president! # trump2016 \"\n",
            "\n",
            "####################\n",
            "Temperature: 0.5\n",
            "####################\n",
            "\"@:@ realdonaldtrump@@@ nytimes@ cnn@ foxandfriends we need trump! save us! \"\n",
            "\n",
            "\"@:@ realdonaldtrump@@@ seanhannity@ gop # trump is the only candidate that can beat hillary \"\n",
            "\n",
            "i am pleased to announce that my nomination of jerome shortly. i agree, thank you for your very important work!\n",
            "\n",
            "####################\n",
            "Temperature: 1.0\n",
            "####################\n",
            "\"@:@ realdonaldtrump please retweet for you. if you run for 16, you would be awesome.\n",
            "\n",
            "can you believe obama throughout the world's worst health? are you too? good looking.\n",
            "\n",
            "with zero, president obama said that i was together to, and so many in the republican party, immediately declared major national humanitarian bill – looking forward to the start of the usa. great, one of the biggest people coming out!\n",
            "\n",
            "9651/9651 [==============================] - 636s 66ms/step - loss: 2.1288\n",
            "Epoch 9/12\n",
            "9651/9651 [==============================] - ETA: 0s - loss: 1.9358####################\n",
            "Temperature: 0.2\n",
            "####################\n",
            "\"@:@ realdonaldtrump@@@ cnn@ cnnpolitics can't wait for the insightful people. \" so true!\n",
            "\n",
            "\"@:@ realdonaldtrump@@@ cnn@ gop we need trump!!! \"\n",
            "\n",
            "\"@:@ realdonaldtrump@@@ cnn@ foxnews i'm thinking, but trump is the only one that can do it! # makeamericagreatagain \"\n",
            "\n",
            "####################\n",
            "Temperature: 0.5\n",
            "####################\n",
            "\"@:@ realdonaldtrump@@ foxnews@ cnn@ drudge report megyn has done a great job. \"\n",
            "\n",
            "\"@:@ realdonaldtrump@@ trumpchicago i love the sign.... beautiful. \"\n",
            "\n",
            "\"@:@ realdonaldtrump@@@ cnn@ foxnews@ drudge report excellent, but also, i agree with mr trump. \"\n",
            "\n",
            "####################\n",
            "Temperature: 1.0\n",
            "####################\n",
            "very dangerous developing across country by the reporter of ms - 13. 1 at espn (+ two small from protest against iran s 150 in order to understand this mess!\n",
            "\n",
            ".@ ivankatrump just announced me for my interview today on her new show -, on the other side!\n",
            "\n",
            "my thoughts? i'm the third -. # debate # makeamericagreatagain #. twitter. /\n",
            "\n",
            "9651/9651 [==============================] - 628s 65ms/step - loss: 1.9358\n",
            "Epoch 10/12\n",
            "9651/9651 [==============================] - ETA: 0s - loss: 1.7424####################\n",
            "Temperature: 0.2\n",
            "####################\n",
            "\"@:@ realdonaldtrump@@@ cnn@ cnnpolitics@ cnn it is a total disaster. \" thank you!\n",
            "\n",
            "\"@:@ realdonaldtrump@@@ cnn@ cnnpolitics@ cnn it is a total disaster. \" thank you!\n",
            "\n",
            "\"@:@ realdonaldtrump@@@ cnn@ cnnpolitics@ cnn it is a total disaster. \" thank you!\n",
            "\n",
            "####################\n",
            "Temperature: 0.5\n",
            "####################\n",
            "\"@:@ realdonaldtrump please run!!!! we need a change!!! \"\n",
            "\n",
            "\"@:@ realdonaldtrump@@@ foxnews@ cnn it's the only way they're not going to win. # teamtrump # trump2016 \"\n",
            "\n",
            "\"@:@ realdonaldtrump@@@ cnn it's all about, trump is the most smart man in the world. \"\n",
            "\n",
            "####################\n",
            "Temperature: 1.0\n",
            "####################\n",
            "\"@:@ realdonaldtrump im voting today, it will be a great surprise... \" thank you!\n",
            "\n",
            "\"an interview with donald trump in singapore'excitement\": / /. washingtonpost. / news / post - debate - poll - donald - trump / 2015 / 12 / 27 / id / / …\n",
            "\n",
            "the's trump campaign continues to troy: i support dems of down.: / /. breitbart. / 2016 - presidential - race / 2016 / 10 / 10 / 26 / me - created - job - by - far / … \"\n",
            "\n",
            "9651/9651 [==============================] - 614s 64ms/step - loss: 1.7424\n",
            "Epoch 11/12\n",
            "9651/9651 [==============================] - ETA: 0s - loss: 1.5211####################\n",
            "Temperature: 0.2\n",
            "####################\n",
            "\"@:@ realdonaldtrump@@@ foxnews@ cnn it's great, but they're finally getting trump! \"\n",
            "\n",
            "\"@:@ realdonaldtrump@@@ foxnews@ cnn@ cnnpolitics it's beautiful \" thank you.\n",
            "\n",
            "\"@:@ realdonaldtrump@@@ cnn@ cnnpolitics trump is the smartest man, & insightful, tweets. \"\n",
            "\n",
            "####################\n",
            "Temperature: 0.5\n",
            "####################\n",
            "\"@:@ realdonaldtrump you were great on letterman. you're such a great player and a great guy. \" thanks.\n",
            "\n",
            "\"@:@ realdonaldtrump@@@ cnn@ cnnpolitics trump is the smartest man. \"\n",
            "\n",
            "i told you that the giants are making millions of dollars of are making a hit hurricane. even worse my office, now looking even more than me!\n",
            "\n",
            "####################\n",
            "Temperature: 1.0\n",
            "####################\n",
            "@ thank you.\n",
            "\n",
            "i just got fired like they will be doing this for three years! # maga\n",
            "\n",
            "\"the@ barackobama administration is taking over $25 on criminal aliens.\" what happened to foxnews \" found chuck of his schumer... just another democrat disgrace!\n",
            "\n",
            "9651/9651 [==============================] - 588s 61ms/step - loss: 1.5211\n",
            "Epoch 12/12\n",
            "9651/9651 [==============================] - ETA: 0s - loss: 1.3497####################\n",
            "Temperature: 0.2\n",
            "####################\n",
            "\"@:@ realdonaldtrump@@ foxnews@ cnn@ cnnpolitics it's beautiful. pic. twitter. / \" so nice, thank you!\n",
            "\n",
            "\"@:@ realdonaldtrump@@ foxnews@ cnn@ cnnpolitics it's beautiful. pic. twitter. / \" so much more than it is!\n",
            "\n",
            "\"@:@ realdonaldtrump@@ foxnews@ cnn@ cnnpolitics it's beautiful \" thank you.\n",
            "\n",
            "####################\n",
            "Temperature: 0.5\n",
            "####################\n",
            "\"@:@ realdonaldtrump@@@ foxnews@ cnn@ cnnpolitics can't wait for trump to stop the \"lightweight\" a total hit piece on me. fast!\n",
            "\n",
            "\"@:@ realdonaldtrump@@@ macys they all were great! trump is fighting. \"\n",
            "\n",
            "\"@:@ realdonaldtrump@@ donald trump for president! \"\n",
            "\n",
            "####################\n",
            "Temperature: 1.0\n",
            "####################\n",
            "\"@:@ realdonaldtrump what are your thoughts on this? \" no more!\n",
            "\n",
            "\"@: this year. i want it to be part of for the time. i have the greatest respect of all!\n",
            "\n",
            "i have a judge at my own, just seem not to the republican party because you can do all the right time next year...\n",
            "\n",
            "9651/9651 [==============================] - 578s 60ms/step - loss: 1.3497\n"
          ],
          "name": "stdout"
        }
      ]
    },
    {
      "cell_type": "code",
      "metadata": {
        "id": "q-TyCT7W4Ist"
      },
      "source": [
        "# textgen2 = textgenrnn(weights_path='/content/Generate-Trump-like-Tweets/trump_epoch12_weights.hdf5',\n",
        "#                       vocab_path = '/content/Generate-Trump-like-Tweets/trump_epoch12_vocab.json',\n",
        "#                       config_path = '/content/Generate-Trump-like-Tweets/trump_epoch12_config.json')\n"
      ],
      "execution_count": 14,
      "outputs": []
    },
    {
      "cell_type": "markdown",
      "metadata": {
        "id": "FN3xxM8A5fwd"
      },
      "source": [
        "We can now call the _.generate()_ method to generate Tweets. We can call _help()_ to see some of its arguments.\n",
        "\n",
        "Two fun thing's to play with are `temperature`, which controls how _creative_ the model will be, and `prefix`, which allows you to force the model to start the generated text with specified text. Play around with these settings and see what you get!"
      ]
    },
    {
      "cell_type": "code",
      "metadata": {
        "id": "IIyBj34APo5i",
        "colab": {
          "base_uri": "https://localhost:8080/",
          "height": 105
        },
        "outputId": "a5486762-2b71-4302-cf17-7776ea969e69"
      },
      "source": [
        "help(textgen.generate)"
      ],
      "execution_count": null,
      "outputs": [
        {
          "output_type": "stream",
          "text": [
            "Help on method generate in module textgenrnn.textgenrnn:\n",
            "\n",
            "generate(n=1, return_as_list=False, prefix=None, temperature=[1.0, 0.5, 0.2, 0.2], max_gen_length=300, interactive=False, top_n=3, progress=True) method of textgenrnn.textgenrnn.textgenrnn instance\n",
            "\n"
          ],
          "name": "stdout"
        }
      ]
    },
    {
      "cell_type": "code",
      "metadata": {
        "id": "lg2jGDLA61JO",
        "colab": {
          "base_uri": "https://localhost:8080/",
          "height": 224
        },
        "outputId": "0cc3d01d-445d-4cda-d692-f9a715c054e5"
      },
      "source": [
        "textgen.generate(n=5, temperature = 0.5, prefix = \"China\")"
      ],
      "execution_count": null,
      "outputs": [
        {
          "output_type": "stream",
          "text": [
            " 20%|██        | 1/5 [00:03<00:14,  3.60s/it]"
          ],
          "name": "stderr"
        },
        {
          "output_type": "stream",
          "text": [
            "china has just to lower the yuan - an “ “ give ” the money they paid. the federal reserve is back. their dollar is no strongest, it is no........\n",
            "\n"
          ],
          "name": "stdout"
        },
        {
          "output_type": "stream",
          "text": [
            "\r 40%|████      | 2/5 [00:04<00:08,  2.77s/it]"
          ],
          "name": "stderr"
        },
        {
          "output_type": "stream",
          "text": [
            "china has been asked to develop a much $3. when it comes to a larger screen iphone. they have...\n",
            "\n"
          ],
          "name": "stdout"
        },
        {
          "output_type": "stream",
          "text": [
            "\r 60%|██████    | 3/5 [00:05<00:04,  2.14s/it]"
          ],
          "name": "stderr"
        },
        {
          "output_type": "stream",
          "text": [
            "china has been taking over the country, they were so great for our farmers and so many others!\n",
            "\n"
          ],
          "name": "stdout"
        },
        {
          "output_type": "stream",
          "text": [
            "\r 80%|████████  | 4/5 [00:05<00:01,  1.72s/it]"
          ],
          "name": "stderr"
        },
        {
          "output_type": "stream",
          "text": [
            "china has a business tax rate of 15. we should lower the price of oil immediately & gas....\n",
            "\n"
          ],
          "name": "stdout"
        },
        {
          "output_type": "stream",
          "text": [
            "100%|██████████| 5/5 [00:07<00:00,  1.47s/it]"
          ],
          "name": "stderr"
        },
        {
          "output_type": "stream",
          "text": [
            "china is now attacking japan and other military to invest in their country and other countries. this is more than the democrats in congress, or to interfere in our good & hopefully will be a powerful shake........\n",
            "\n"
          ],
          "name": "stdout"
        },
        {
          "output_type": "stream",
          "text": [
            "\n"
          ],
          "name": "stderr"
        }
      ]
    },
    {
      "cell_type": "code",
      "metadata": {
        "id": "XAeYvUFa9pH6",
        "colab": {
          "base_uri": "https://localhost:8080/",
          "height": 122
        },
        "outputId": "1fdd016b-45c6-4c78-c137-2356e587938d"
      },
      "source": [
        "textgen.generate(n = 2, prefix = \"China\",temperature = [0.5, 1])"
      ],
      "execution_count": null,
      "outputs": [
        {
          "output_type": "stream",
          "text": [
            " 50%|█████     | 1/2 [00:01<00:01,  1.12s/it]"
          ],
          "name": "stderr"
        },
        {
          "output_type": "stream",
          "text": [
            "china just announced that they were trying to do their best. they do not continue to “, ” and neither does. would love to do something done. don t fall!\n",
            "\n"
          ],
          "name": "stdout"
        },
        {
          "output_type": "stream",
          "text": [
            "100%|██████████| 2/2 [00:02<00:00,  1.03s/it]"
          ],
          "name": "stderr"
        },
        {
          "output_type": "stream",
          "text": [
            "china dropped out of the military and other plans to build military and everything they up in is that our economy has never moved our countries....\n",
            "\n"
          ],
          "name": "stdout"
        },
        {
          "output_type": "stream",
          "text": [
            "\n"
          ],
          "name": "stderr"
        }
      ]
    }
  ]
}